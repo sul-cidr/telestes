{
 "cells": [
  {
   "cell_type": "code",
   "execution_count": 1,
   "id": "ac8687a4",
   "metadata": {},
   "outputs": [
    {
     "name": "stdout",
     "output_type": "stream",
     "text": [
      "The autoreload extension is already loaded. To reload it, use:\n",
      "  %reload_ext autoreload\n"
     ]
    }
   ],
   "source": [
    "%load_ext autoreload\n",
    "%autoreload 2\n",
    "\n",
    "from collections import defaultdict\n",
    "\n",
    "import faiss\n",
    "import matplotlib.pyplot as plt\n",
    "import numpy as np\n",
    "\n",
    "from pose_data_db import PoseDataDatabase\n",
    "from jupyter_helpers import show_video_selector\n",
    "\n",
    "db = await PoseDataDatabase.create()"
   ]
  },
  {
   "cell_type": "code",
   "execution_count": 2,
   "id": "c4f0a2f6",
   "metadata": {},
   "outputs": [
    {
     "data": {
      "text/html": [
       "<style>.widget-label { min-width: 20ex !important; }</style><body><p>Please select the video to explore from the dropdown list.</p></body>"
      ]
     },
     "metadata": {},
     "output_type": "display_data"
    },
    {
     "data": {
      "application/vnd.jupyter.widget-view+json": {
       "model_id": "732b6f245a82484f8fa55691f0839ad0",
       "version_major": 2,
       "version_minor": 0
      },
      "text/plain": [
       "Dropdown(description='Video to explore:', layout=Layout(height='40px', width='60%'), options=(('Serso ato 3 (C…"
      ]
     },
     "execution_count": 2,
     "metadata": {},
     "output_type": "execute_result"
    }
   ],
   "source": [
    "video_selector = show_video_selector(await db.get_available_videos())\n",
    "video_selector"
   ]
  },
  {
   "cell_type": "code",
   "execution_count": 3,
   "id": "7ebd72ed",
   "metadata": {},
   "outputs": [],
   "source": [
    "normalized_pose_data = await db.get_pose_annotations(\"norm\", video_selector.value)"
   ]
  },
  {
   "cell_type": "code",
   "execution_count": 4,
   "id": "92dc0ae2",
   "metadata": {},
   "outputs": [
    {
     "data": {
      "text/html": [
       "<pre style=\"white-space:pre;overflow-x:auto;line-height:normal;font-family:Menlo,'DejaVu Sans Mono',consolas,'Courier New',monospace\"><span style=\"color: #008080; text-decoration-color: #008080; font-weight: bold\">86327</span>\n",
       "</pre>\n"
      ],
      "text/plain": [
       "\u001b[1;36m86327\u001b[0m\n"
      ]
     },
     "metadata": {},
     "output_type": "display_data"
    }
   ],
   "source": [
    "# don't try to print `normalized_pose_data` to the screen!\n",
    "len(normalized_pose_data)"
   ]
  },
  {
   "cell_type": "markdown",
   "id": "b7cc63f1",
   "metadata": {},
   "source": [
    "#### Optional: cluster analysis of normalized poses\n",
    "\n",
    "The cell below computes a K-means clustering of the poses based on the L2 (Euclidean) similarities of their normalized coordinate vectors, then calculates and visualizes the relative sizes of the clusters and the averaged armature positions of their poses.\n",
    "\n",
    "The averaged poses are visualized on blended averages of their background (source) image regions if `AVERAGE_BACKGROUNDS` is set to `True` -- although generating these plots takes quite a bit longer than plotting averaged poses with no backgrounds, due to the overhead of averaging the background images' pixel values."
   ]
  },
  {
   "cell_type": "code",
   "execution_count": 5,
   "id": "affc332d",
   "metadata": {},
   "outputs": [
    {
     "data": {
      "image/png": "[encoded data removed]"
     },
     "metadata": {},
     "output_type": "display_data"
    }
   ],
   "source": [
    "# +\n",
    "faiss_L2_input = np.array(normalized_pose_data).astype(\"float32\")\n",
    "\n",
    "kmeans_faiss = faiss.Kmeans(d=faiss_L2_input.shape[1], k=100, niter=100)\n",
    "kmeans_faiss.train(faiss_L2_input)\n",
    "_, cluster_labels = kmeans_faiss.index.search(faiss_L2_input, 1)\n",
    "cluster_labels = np.array(cluster_labels).flatten()\n",
    "\n",
    "bin_counts = defaultdict(int)\n",
    "cluster_to_pose = defaultdict(list)\n",
    "\n",
    "for i, ct in enumerate(cluster_labels):\n",
    "    bin_counts[ct] += 1\n",
    "    cluster_to_pose[ct].append(i)\n",
    "\n",
    "sorted_bin_counts = sorted(bin_counts.values(), reverse=True)\n",
    "\n",
    "plt.rcParams[\"figure.figsize\"] = (15,5)\n",
    "plt.bar(range(len(sorted_bin_counts)), sorted_bin_counts)\n",
    "plt.rcParams[\"figure.figsize\"] = plt.rcParamsDefault[\"figure.figsize\"]"
   ]
  },
  {
   "cell_type": "code",
   "execution_count": null,
   "id": "ce0c8cc6",
   "metadata": {},
   "outputs": [],
   "source": []
  }
 ],
 "metadata": {
  "kernelspec": {
   "display_name": "pgvector",
   "language": "python",
   "name": "pgvector"
  },
  "language_info": {
   "codemirror_mode": {
    "name": "ipython",
    "version": 3
   },
   "file_extension": ".py",
   "mimetype": "text/x-python",
   "name": "python",
   "nbconvert_exporter": "python",
   "pygments_lexer": "ipython3",
   "version": "3.10.9"
  }
 },
 "nbformat": 4,
 "nbformat_minor": 5
}
